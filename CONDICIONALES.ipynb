{
  "nbformat": 4,
  "nbformat_minor": 0,
  "metadata": {
    "colab": {
      "provenance": [],
      "authorship_tag": "ABX9TyPwxUKFFEnd2EGQz4S/NHHB",
      "include_colab_link": true
    },
    "kernelspec": {
      "name": "python3",
      "display_name": "Python 3"
    },
    "language_info": {
      "name": "python"
    }
  },
  "cells": [
    {
      "cell_type": "markdown",
      "metadata": {
        "id": "view-in-github",
        "colab_type": "text"
      },
      "source": [
        "<a href=\"https://colab.research.google.com/github/384400klm/condicionales-/blob/main/CONDICIONALES.ipynb\" target=\"_parent\"><img src=\"https://colab.research.google.com/assets/colab-badge.svg\" alt=\"Open In Colab\"/></a>"
      ]
    },
    {
      "cell_type": "markdown",
      "source": [
        "#condicionales\n",
        "\n",
        "- **presentado por:** Camila Martinez\n",
        "- **email:** andrea.martinezc@upb.edu.co\n",
        "\n",
        "\n",
        "repositorio para trabajar ejercicios condicionales"
      ],
      "metadata": {
        "id": "gvwYTBQ78r6n"
      }
    },
    {
      "cell_type": "markdown",
      "source": [
        "## problema\n",
        "\n",
        "Problema: Cálculo del Precio de Boletas en el Cine\n",
        "Descripción del problema: Un cine local ofrece promociones en las entradas según el horario de la función. Las reglas para determinar el costo de las entradas son las siguientes:\n",
        "\n",
        "Para cualquier función antes de las 6:00 p.m., las entradas tienen los siguientes precios:\n",
        "- Niños: $5,000 COP.\n",
        "\n",
        "- Adultos: $7,500 COP.\n",
        "\n",
        "\n",
        "Para funciones después de las 6:00 p.m., el precio de la entrada es general:\n",
        "Entrada general: $10,000 COP por persona.\n",
        "Además, si el total de la compra supera los $50,000 COP, el cine regala una crispeta familiar.\n",
        "\n",
        "\n",
        "**Entradas del problema:**\n",
        "\n",
        "- num_ninos: número de niños en el grupo.\n",
        "- num_adultos: número de adultos en el grupo.\n",
        "- hora_funcion: hora de la función en formato de 24 horas (por ejemplo, 14 para - las 2 p.m., 19 para las 7 p.m.).\n",
        "\n",
        "**Salidas esperadas:**\n",
        "\n",
        "- El total a pagar por las entradas.\n",
        "Si se obtiene o no la crispeta familiar.\n",
        "\n"
      ],
      "metadata": {
        "id": "JsukHOOU8yS3"
      }
    },
    {
      "cell_type": "markdown",
      "source": [
        "### Algoritmo para determinar el total a pagar en cine\n",
        "\n",
        "1. iniciar\n",
        "2. obtener el numero de niños que entrara en la funcion\n",
        "3. obtner el numero de adultos que entrara en la funcion\n",
        "4. obtener la hora de la funcion (0 - 24)\n",
        "5. Determinar el total dependiendo de la hora de la función:\n",
        "\n",
        "- Si la hora es menor a 18, entonces: total = num_ninos * 5000 + num_adultos * 7500\n",
        "- Si la hora es mayor o igual a 18, entonces: total = (num_ninos + num_adultos) * 10000\n",
        "6. Mostrar total\n",
        "Si el total es mayor a $50000, indicar que se han ganado una crispeta gratis\n",
        "7. Finalizar\n",
        "\n",
        "\n",
        "### Pseudocodigo\n",
        "Program calcularEntradasCine\n",
        "Start\n",
        "  // Programa para calcular el total de las entradas a cine\n",
        "  Declare Int num_ninos\n",
        "  Declare Int num_adultos\n",
        "  Declare Int hora\n",
        "  Declare Float total\n",
        "\n",
        "  Display \"Ingrese el número de niños: \"\n",
        "  Input num_ninos\n",
        "  Display \"Ingrese el número de adultos: \"\n",
        "  Input num_adultos\n",
        "  Display \"Ingrese la hora de la función (0 - 23): \"\n",
        "  Input hora\n",
        "  \n",
        "  // Determinar el total a pagar dependiendo de la hora de la función\n",
        "  If hora < 18 Then\n",
        "    total = num_ninos * 5000 + num_adultos * 7500\n",
        "  Else\n",
        "    total = (num_ninos + num_adultos) * 10000\n",
        "  End If\n",
        "  \n",
        "  Display \"El total a pagar es \", total\n",
        "\n",
        "  // Determinar si el grupo se gana unas crispetas\n",
        "  If total > 50000 Then\n",
        "    Display \"Se ha ganado unas crispetas familiar.\"\n",
        "  End If\n",
        "  \n",
        "  Display \"Disfrute de la función :)\"\n",
        "End\n"
      ],
      "metadata": {
        "id": "6OgkS4vi9a3e"
      }
    },
    {
      "cell_type": "code",
      "source": [
        "num_niños = int(input(\"Ingrese el número de niños: \"))\n",
        "num_adultos = int(input(\"Ingrese el número de adultos: \"))\n",
        "hora = int(input(\"Ingrese la hora de la función (0 - 23): \"))\n",
        "if hora < 18:\n",
        "    total = num_niños * 5000 + num_adultos * 7500\n",
        "else:\n",
        "    total = (num_niños + num_adultos) * 10000\n",
        "\n",
        "print(\"El total a pagar es \", total)\n",
        "\n",
        "if total > 50000:\n",
        "    print(\"Se ha ganado unas crispetas familiares.\")\n",
        "\n",
        "print(\"Disfrute de la función :)\")\n",
        "\n",
        "print(\"Gracias por su compra.\")"
      ],
      "metadata": {
        "colab": {
          "base_uri": "https://localhost:8080/"
        },
        "id": "oVhvyAXvENv8",
        "outputId": "6d2e7e2f-1016-46ee-9029-6411e873d3e8"
      },
      "execution_count": 1,
      "outputs": [
        {
          "output_type": "stream",
          "name": "stdout",
          "text": [
            "Ingrese el número de niños: 2\n",
            "Ingrese el número de adultos: 3\n",
            "Ingrese la hora de la función (0 - 23): 3\n",
            "El total a pagar es  32500\n",
            "Disfrute de la función :)\n",
            "Gracias por su compra.\n"
          ]
        }
      ]
    },
    {
      "cell_type": "markdown",
      "source": [],
      "metadata": {
        "id": "LaHJQ_AYBXgI"
      }
    }
  ]
}